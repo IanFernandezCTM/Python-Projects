{
 "cells": [
  {
   "cell_type": "code",
   "execution_count": null,
   "id": "35a2deed",
   "metadata": {},
   "outputs": [],
   "source": [
    "#WELCOME TO THE EVEN NUMBER GUESSING GAME!\n",
    "#I'm thinking of a number between 1 and 100\n",
    "#If your guess is more than 10 away from my number, I'll tell you you're cold\n",
    "#If your guess is within 10 of my number, I'll tell you you're warm\n",
    "#If your guess is farther than your most recent guess, I'll say you're getting colder\n",
    "#If your guess is closer than your most recent guess, I'll say you're getting warmer\n",
    "#Since this is the EVEN edition, the correct answer will be an EVEN number! \n",
    "#LET'S PLAY!"
   ]
  },
  {
   "cell_type": "code",
   "execution_count": null,
   "id": "0f8c2784",
   "metadata": {},
   "outputs": [],
   "source": [
    "import random\n",
    "\n",
    "num = random.randint(1,200)\n",
    "if num % 2 == 0:\n",
    "    print(num)\n",
    "else: \n",
    "    print(num-1)\n",
    "    \n",
    "guesses = [0]\n",
    "\n",
    "while True: \n",
    "    guess = int(input('Take a Guess!'))\n",
    "    \n",
    "    if guess < 1 or guess > 200:\n",
    "        print('Please input a number within 1 and 200')\n",
    "        continue\n",
    "    \n",
    "    if guess == num:\n",
    "        print(f'Amazing job! You were able to get it in: {len(guesses)} tries') \n",
    "        break    \n",
    "    guesses.append(guess)\n",
    "    \n",
    "    if guesses[-2]:\n",
    "        if abs (num-guess) < abs(num-guesses[-2]):\n",
    "            print('Warmer')\n",
    "            \n",
    "        else: print('Colder')\n",
    "    else:\n",
    "        if abs(num-guess) <=10:\n",
    "            print('Warm')\n",
    "        else: \n",
    "            print('Cold')"
   ]
  }
 ],
 "metadata": {
  "kernelspec": {
   "display_name": "Python 3 (ipykernel)",
   "language": "python",
   "name": "python3"
  },
  "language_info": {
   "codemirror_mode": {
    "name": "ipython",
    "version": 3
   },
   "file_extension": ".py",
   "mimetype": "text/x-python",
   "name": "python",
   "nbconvert_exporter": "python",
   "pygments_lexer": "ipython3",
   "version": "3.9.12"
  }
 },
 "nbformat": 4,
 "nbformat_minor": 5
}
