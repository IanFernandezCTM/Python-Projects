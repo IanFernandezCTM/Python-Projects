{
 "cells": [
  {
   "cell_type": "code",
   "execution_count": null,
   "id": "feddd129",
   "metadata": {},
   "outputs": [],
   "source": [
    "from IPython.display import clear_output\n",
    "\n",
    "def display_board(board):\n",
    "    clear_output()\n",
    "    print(board[1]+'|'+board[2]+'|'+board[3])\n",
    "    print(board[4]+'|'+board[5]+'|'+board[6])\n",
    "    print(board[7]+'|'+board[8]+'|'+board[9])"
   ]
  },
  {
   "cell_type": "code",
   "execution_count": null,
   "id": "9b444ce8",
   "metadata": {},
   "outputs": [],
   "source": [
    "test_board = ['#','X','X','X','O','X','O','X','O','X']\n",
    "\n",
    "display_board(test_board)"
   ]
  },
  {
   "cell_type": "code",
   "execution_count": null,
   "id": "2607600b",
   "metadata": {},
   "outputs": [],
   "source": [
    "def player_input():\n",
    "   \n",
    "    '''\n",
    "    Output= (Player 1 marker, Player 2 marker)\n",
    "    '''\n",
    "    \n",
    "    marker =''\n",
    "    \n",
    "    while marker != 'X' and marker != 'O':\n",
    "        marker = input('Player 1 choose \"X\" or \"O\":  ').upper()\n",
    "        \n",
    "    if marker == 'X':\n",
    "        return('X','O')\n",
    "    else: \n",
    "        return ('O','X')"
   ]
  },
  {
   "cell_type": "code",
   "execution_count": null,
   "id": "3387a644",
   "metadata": {},
   "outputs": [],
   "source": [
    "def place_marker(board,marker,position):\n",
    "    \n",
    "    board[position] = marker"
   ]
  },
  {
   "cell_type": "code",
   "execution_count": null,
   "id": "a28bd5f4",
   "metadata": {},
   "outputs": [],
   "source": [
    "def win_check(board,mark):\n",
    "    return(board[1] == board[2] == board [3] == mark or #Vertical Win\n",
    "    (board[4] == board[5] == board [6] == mark) or #Vertical Win\n",
    "    (board[7] == board[8] == board [9] == mark) or #Vertical Win\n",
    "    (board[1] == board[4] == board [7] == mark) or #Horizontal Win\n",
    "    (board[2] == board[5] == board [8] == mark) or #Horizontal Win\n",
    "    (board[3] == board[6] == board [9] == mark) or #Horizontal Win\n",
    "    (board[1] == board[5] == board [9] == mark) or #Diagonal Win\n",
    "    (board[3] == board[5] == board [7] == mark)) #Diagonal Win"
   ]
  },
  {
   "cell_type": "code",
   "execution_count": null,
   "id": "ce1e9091",
   "metadata": {},
   "outputs": [],
   "source": [
    "import random \n",
    "\n",
    "def chose_first():\n",
    "    flip = random.randint(0,1)\n",
    "    \n",
    "    if flip == 0:\n",
    "        return 'Player 1'\n",
    "    else: \n",
    "        return 'Player 2'"
   ]
  },
  {
   "cell_type": "code",
   "execution_count": null,
   "id": "bc3512d1",
   "metadata": {},
   "outputs": [],
   "source": [
    "def space_check(board,position):\n",
    "    return board[position] == ' '"
   ]
  },
  {
   "cell_type": "code",
   "execution_count": null,
   "id": "e02bcb78",
   "metadata": {},
   "outputs": [],
   "source": [
    "def full_check(board):\n",
    "    for i in range(1,10):\n",
    "        if space_check(board, i):\n",
    "            return False\n",
    "    return True"
   ]
  },
  {
   "cell_type": "code",
   "execution_count": null,
   "id": "28df46d0",
   "metadata": {},
   "outputs": [],
   "source": [
    "def player_choice(board):\n",
    "    position = 0\n",
    "    \n",
    "    while position not in list(range(1,10)) or not space_check(board,position):\n",
    "        position = int(input('Choose a position:(1-9)  '))\n",
    "    return position"
   ]
  },
  {
   "cell_type": "code",
   "execution_count": null,
   "id": "3078c8d0",
   "metadata": {},
   "outputs": [],
   "source": [
    "def replay():\n",
    "    choice = input('Do you want to play again, Y or N?:' ).upper()\n",
    "    return choice == 'Y'"
   ]
  },
  {
   "cell_type": "code",
   "execution_count": null,
   "id": "f52ac8f7",
   "metadata": {},
   "outputs": [],
   "source": [
    "print('Welcome to Tic Tac Toe')\n",
    "\n",
    "\n",
    "while True:\n",
    "    the_board = [' ']*10\n",
    "\n",
    "    player1_marker, player2_marker = player_input()\n",
    "\n",
    "    turn = chose_first()\n",
    "\n",
    "    print(turn + ' will go first')\n",
    "    \n",
    "    play_game = input('Ready to play? Y or N?:  ').upper()\n",
    "    \n",
    "    if play_game == 'Y':\n",
    "        game_on=True \n",
    "    else: game_on=False\n",
    "    \n",
    "    while game_on:\n",
    "        if turn == 'Player 1':\n",
    "            \n",
    "            display_board(the_board)\n",
    "            position = player_choice(the_board)\n",
    "            place_marker(the_board,player1_marker,position)\n",
    "            if win_check(the_board,player1_marker):\n",
    "                display_board(the_board)\n",
    "                print('Player 1 wins!!')\n",
    "                game_on=False\n",
    "            else: \n",
    "                if full_check(the_board):\n",
    "                    display_board(the_board)\n",
    "                    print('We have a tie!')\n",
    "                    game_on=False\n",
    "                else: \n",
    "                    turn = 'Player 2'  \n",
    "        else:\n",
    "            display_board(the_board)\n",
    "            position = player_choice(the_board)\n",
    "            place_marker(the_board,player2_marker,position)\n",
    "            if win_check(the_board,player2_marker):\n",
    "                display_board(the_board)\n",
    "                print('Player 2 wins!!')\n",
    "                game_on=False\n",
    "            else: \n",
    "                if full_check(the_board):\n",
    "                    display_board(the_board)\n",
    "                    print('We have a tie!')\n",
    "                    game_on=False\n",
    "                else: \n",
    "                    turn = 'Player 1' \n",
    "                    \n",
    "    if not replay():\n",
    "        break"
   ]
  }
 ],
 "metadata": {
  "kernelspec": {
   "display_name": "Python 3 (ipykernel)",
   "language": "python",
   "name": "python3"
  },
  "language_info": {
   "codemirror_mode": {
    "name": "ipython",
    "version": 3
   },
   "file_extension": ".py",
   "mimetype": "text/x-python",
   "name": "python",
   "nbconvert_exporter": "python",
   "pygments_lexer": "ipython3",
   "version": "3.9.12"
  }
 },
 "nbformat": 4,
 "nbformat_minor": 5
}
