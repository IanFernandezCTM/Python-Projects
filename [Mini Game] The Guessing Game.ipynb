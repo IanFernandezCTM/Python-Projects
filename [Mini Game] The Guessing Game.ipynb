{
 "cells": [
  {
   "cell_type": "code",
   "execution_count": null,
   "id": "340c0d74",
   "metadata": {},
   "outputs": [],
   "source": [
    "print(\"WELCOME TO THE GUESSING GAME!\")\n",
    "print(\"I'm thinking of a number between 1 and 100\")\n",
    "print(\"If your guess is more than 10 away from my number, I'll tell you you're Cold\")\n",
    "print(\"If your guess is within 10 of my number, I'll tell you you're Warm\")\n",
    "print(\"If your guess is farther than your most recent guess, I'll say you're getting Colder\")\n",
    "print(\"If your guess is closer than your most recent guess, I'll say you're getting Warmer\")\n",
    "print(\"LET'S PLAY!\")"
   ]
  },
  {
   "cell_type": "code",
   "execution_count": null,
   "id": "a2221a36",
   "metadata": {},
   "outputs": [],
   "source": [
    "import random\n",
    "\n",
    "num = random.randint(1,100)\n",
    "\n",
    "guesses = [0]\n",
    "\n",
    "while True:\n",
    "    guess = int(input('What is your guess?'))\n",
    "    \n",
    "    if guess <1 or guess >100:\n",
    "        print('Only 1 to 100 please!')\n",
    "        continue\n",
    "        \n",
    "    if guess == num: \n",
    "        print(f'Great job! It only took you:{len(guesses)} tries')\n",
    "        break\n",
    "    guesses.append(guess)\n",
    "    \n",
    "    if guesses[-2]:\n",
    "        if abs (num-guess) < abs(num-guesses[-2]):\n",
    "            print('Warmer!')\n",
    "            \n",
    "        else: print('Colder')\n",
    "    else:\n",
    "        if abs(num-guess) <=10:\n",
    "            print('Warm!')\n",
    "        else:\n",
    "            print('Cold!')"
   ]
  }
 ],
 "metadata": {
  "kernelspec": {
   "display_name": "Python 3 (ipykernel)",
   "language": "python",
   "name": "python3"
  },
  "language_info": {
   "codemirror_mode": {
    "name": "ipython",
    "version": 3
   },
   "file_extension": ".py",
   "mimetype": "text/x-python",
   "name": "python",
   "nbconvert_exporter": "python",
   "pygments_lexer": "ipython3",
   "version": "3.9.12"
  }
 },
 "nbformat": 4,
 "nbformat_minor": 5
}
