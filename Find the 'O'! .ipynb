{
 "cells": [
  {
   "cell_type": "code",
   "execution_count": 26,
   "id": "ea90191c",
   "metadata": {},
   "outputs": [],
   "source": [
    "mylist = ['O','','']"
   ]
  },
  {
   "cell_type": "code",
   "execution_count": 27,
   "id": "38b1b02b",
   "metadata": {},
   "outputs": [],
   "source": [
    "from random import shuffle \n",
    "\n",
    "def shuffle_list(mylist):\n",
    "    shuffle(mylist)\n",
    "    return mylist"
   ]
  },
  {
   "cell_type": "code",
   "execution_count": 28,
   "id": "07be493e",
   "metadata": {},
   "outputs": [],
   "source": [
    "def player_guess():\n",
    "    guess = ''\n",
    "    \n",
    "    guess = input('Pick a number: 0,1,2  ')\n",
    "    \n",
    "    while guess not in ['0','1','2']:\n",
    "         guess = input('Read the instructions! Pick a number: 0,1,2  ')\n",
    "    else: return int(guess) "
   ]
  },
  {
   "cell_type": "code",
   "execution_count": 29,
   "id": "e866dac7",
   "metadata": {},
   "outputs": [],
   "source": [
    "def check_guess(mylist,guess):\n",
    "    if mylist[guess] == 'O':\n",
    "        print('Congrats! You won')\n",
    "    else: \n",
    "        print('You got it wrong. :(')\n",
    "        print(mylist)"
   ]
  },
  {
   "cell_type": "code",
   "execution_count": 38,
   "id": "5284e173",
   "metadata": {},
   "outputs": [
    {
     "name": "stdout",
     "output_type": "stream",
     "text": [
      "Pick a number: 0,1,2  2\n",
      "Congrats! You won\n"
     ]
    }
   ],
   "source": [
    "# Initial List\n",
    "mylist = ['O','','']\n",
    "\n",
    "# Shuffle!\n",
    "mystery_list = shuffle_list(mylist)\n",
    "\n",
    "#Input Guess!\n",
    "guess = player_guess()\n",
    "\n",
    "#Check results\n",
    "check_guess(mystery_list,guess)"
   ]
  },
  {
   "cell_type": "code",
   "execution_count": null,
   "id": "7aeb2c5b",
   "metadata": {},
   "outputs": [],
   "source": []
  }
 ],
 "metadata": {
  "kernelspec": {
   "display_name": "Python 3 (ipykernel)",
   "language": "python",
   "name": "python3"
  },
  "language_info": {
   "codemirror_mode": {
    "name": "ipython",
    "version": 3
   },
   "file_extension": ".py",
   "mimetype": "text/x-python",
   "name": "python",
   "nbconvert_exporter": "python",
   "pygments_lexer": "ipython3",
   "version": "3.9.12"
  }
 },
 "nbformat": 4,
 "nbformat_minor": 5
}
